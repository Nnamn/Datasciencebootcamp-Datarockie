{
  "nbformat": 4,
  "nbformat_minor": 0,
  "metadata": {
    "colab": {
      "provenance": []
    },
    "kernelspec": {
      "name": "python3",
      "display_name": "Python 3"
    },
    "language_info": {
      "name": "python"
    }
  },
  "cells": [
    {
      "cell_type": "markdown",
      "source": [
        "# Essential Python 101\n",
        "\n",
        "Today we are learning Python 101 for beginners.\n",
        "\n",
        "\n",
        "*   variables\n",
        "*   data types\n",
        "*   data structures\n",
        "*   function\n",
        "*   control flow\n",
        "*   OOP\n",
        "\n",
        "\n",
        "\n",
        "\n",
        "\n",
        "\n",
        "\n",
        "\n",
        "\n",
        "\n"
      ],
      "metadata": {
        "id": "LvxcVzNrNxTS"
      }
    },
    {
      "cell_type": "code",
      "execution_count": null,
      "metadata": {
        "colab": {
          "base_uri": "https://localhost:8080/"
        },
        "id": "Z0N6VKKzMSwS",
        "outputId": "e9c75f75-24b5-4e25-b7b7-ff06becfb491"
      },
      "outputs": [
        {
          "output_type": "stream",
          "name": "stdout",
          "text": [
            "I am learning Python 101\n"
          ]
        }
      ],
      "source": [
        "print(\"I am learning Python 101\")"
      ]
    },
    {
      "cell_type": "code",
      "source": [
        "# comment\n",
        "# this is a note\n",
        "print(1+1)\n",
        "print(2*2)"
      ],
      "metadata": {
        "colab": {
          "base_uri": "https://localhost:8080/"
        },
        "id": "Iy5r6TB5Pu4a",
        "outputId": "dd8e95af-a231-4b18-900b-672ef941aa02"
      },
      "execution_count": null,
      "outputs": [
        {
          "output_type": "stream",
          "name": "stdout",
          "text": [
            "2\n",
            "4\n"
          ]
        }
      ]
    },
    {
      "cell_type": "code",
      "source": [
        "print(7/2)\n",
        "print(7//2) # floor division"
      ],
      "metadata": {
        "colab": {
          "base_uri": "https://localhost:8080/"
        },
        "id": "VEgmxGBxQCYF",
        "outputId": "e14089a2-d9e3-41f3-fc71-3ce68244a6cd"
      },
      "execution_count": null,
      "outputs": [
        {
          "output_type": "stream",
          "name": "stdout",
          "text": [
            "3.5\n",
            "3\n"
          ]
        }
      ]
    },
    {
      "cell_type": "code",
      "source": [
        "pow(5,2)"
      ],
      "metadata": {
        "colab": {
          "base_uri": "https://localhost:8080/"
        },
        "id": "dFcEqGajQObh",
        "outputId": "49a3ff35-e239-4948-a6d2-35001085f82e"
      },
      "execution_count": null,
      "outputs": [
        {
          "output_type": "execute_result",
          "data": {
            "text/plain": [
              "25"
            ]
          },
          "metadata": {},
          "execution_count": 4
        }
      ]
    },
    {
      "cell_type": "code",
      "source": [
        "abs(-666)"
      ],
      "metadata": {
        "colab": {
          "base_uri": "https://localhost:8080/"
        },
        "id": "CWNIHoVBQo02",
        "outputId": "0dc1f118-a7a6-43ae-c1e7-6ab475783672"
      },
      "execution_count": null,
      "outputs": [
        {
          "output_type": "execute_result",
          "data": {
            "text/plain": [
              "666"
            ]
          },
          "metadata": {},
          "execution_count": 5
        }
      ]
    },
    {
      "cell_type": "code",
      "source": [
        "# modulo\n",
        "5 % 2"
      ],
      "metadata": {
        "colab": {
          "base_uri": "https://localhost:8080/"
        },
        "id": "nAyPOvnVQuiR",
        "outputId": "298ea0c8-83f5-4a9a-b818-c0155d3ee028"
      },
      "execution_count": null,
      "outputs": [
        {
          "output_type": "execute_result",
          "data": {
            "text/plain": [
              "1"
            ]
          },
          "metadata": {},
          "execution_count": 7
        }
      ]
    },
    {
      "cell_type": "code",
      "source": [
        "# 5 buiding blocks\n",
        "# 1. variables\n",
        "# 2. data types\n",
        "# 3. data stuctures\n",
        "# 4. function\n",
        "# 5. control flow\n",
        "# 6. OOP"
      ],
      "metadata": {
        "id": "VS5RwWN-Q2zk"
      },
      "execution_count": null,
      "outputs": []
    },
    {
      "cell_type": "code",
      "source": [
        "# 1. variables\n",
        "# assign a variables\n",
        "my_name = \"Nam\"\n",
        "age = 22\n",
        "gpa = 2.57\n",
        "movie_lover = True # False"
      ],
      "metadata": {
        "id": "qD7B4EHORk6M"
      },
      "execution_count": null,
      "outputs": []
    },
    {
      "cell_type": "code",
      "source": [
        "# case sensitive ตั้งตัวแปลเป็นพิมพ์เล็กทั้งหมด\n",
        "print(age, gpa, movie_lover, my_name)"
      ],
      "metadata": {
        "colab": {
          "base_uri": "https://localhost:8080/"
        },
        "id": "Gj_gbpW7SIbr",
        "outputId": "7c173205-a878-481f-aa47-59f89e49fa2f"
      },
      "execution_count": null,
      "outputs": [
        {
          "output_type": "stream",
          "name": "stdout",
          "text": [
            "22 2.57 True Nam\n"
          ]
        }
      ]
    },
    {
      "cell_type": "code",
      "source": [
        "# over write a value\n",
        "new_age = 25\n",
        "print(age)"
      ],
      "metadata": {
        "colab": {
          "base_uri": "https://localhost:8080/"
        },
        "id": "ZVg1MP85SVgo",
        "outputId": "da110762-1d21-491b-b3f7-d25550a6662f"
      },
      "execution_count": null,
      "outputs": [
        {
          "output_type": "stream",
          "name": "stdout",
          "text": [
            "25\n"
          ]
        }
      ]
    },
    {
      "cell_type": "code",
      "source": [
        "s23_price = 30000\n",
        "discount = 0.15\n",
        "new_s23_price = s23_price * (1 - discount)\n",
        "\n",
        "print(new_s23_price)"
      ],
      "metadata": {
        "colab": {
          "base_uri": "https://localhost:8080/"
        },
        "id": "MxabekvWTAeJ",
        "outputId": "5466529b-a215-45f6-bf53-7245eef9d462"
      },
      "execution_count": null,
      "outputs": [
        {
          "output_type": "stream",
          "name": "stdout",
          "text": [
            "25500.0\n"
          ]
        }
      ]
    },
    {
      "cell_type": "code",
      "source": [
        "# remove variables\n",
        "del s23_price"
      ],
      "metadata": {
        "id": "g_ipCKzdTobw"
      },
      "execution_count": null,
      "outputs": []
    },
    {
      "cell_type": "code",
      "source": [
        "# count variables\n",
        "age = 30\n",
        "age += 1 \n",
        "age += 1 \n",
        "age += 1 \n",
        "age -= 2  # age - 2\n",
        "age *= 2\n",
        "age /= 2\n",
        "print(age)"
      ],
      "metadata": {
        "colab": {
          "base_uri": "https://localhost:8080/"
        },
        "id": "BWGYJVVbUiqx",
        "outputId": "4ddfed60-476d-4482-a2eb-c09b7df2ea2a"
      },
      "execution_count": null,
      "outputs": [
        {
          "output_type": "stream",
          "name": "stdout",
          "text": [
            "31.0\n"
          ]
        }
      ]
    },
    {
      "cell_type": "code",
      "source": [
        "# 2. data types\n",
        "# int float str bool"
      ],
      "metadata": {
        "id": "aWNgj9G5U86T"
      },
      "execution_count": null,
      "outputs": []
    },
    {
      "cell_type": "code",
      "source": [
        "age = 22\n",
        "gpa = 2.57\n",
        "school = \"Khon Kaen\"\n",
        "movie_lover = True"
      ],
      "metadata": {
        "id": "qKerGwJ7Vk30"
      },
      "execution_count": null,
      "outputs": []
    },
    {
      "cell_type": "code",
      "source": [
        "# check data types\n",
        "print( type(age))\n",
        "print( type(gpa))\n",
        "print( type(school))\n",
        "print( type(movie_lover))"
      ],
      "metadata": {
        "colab": {
          "base_uri": "https://localhost:8080/"
        },
        "id": "Has6e-HCV4vk",
        "outputId": "92a2d516-0d90-442d-b58c-55b8f32302b2"
      },
      "execution_count": null,
      "outputs": [
        {
          "output_type": "stream",
          "name": "stdout",
          "text": [
            "<class 'int'>\n",
            "<class 'float'>\n",
            "<class 'str'>\n",
            "<class 'bool'>\n"
          ]
        }
      ]
    },
    {
      "cell_type": "code",
      "source": [
        "# convert types\n",
        "x = 100\n",
        "x = str(x)\n",
        "print(x, type(x))\n"
      ],
      "metadata": {
        "colab": {
          "base_uri": "https://localhost:8080/"
        },
        "id": "TPcvl5S7WPgr",
        "outputId": "686a0c55-4dcf-45ae-800d-f040c4d751db"
      },
      "execution_count": null,
      "outputs": [
        {
          "output_type": "stream",
          "name": "stdout",
          "text": [
            "100 <class 'str'>\n"
          ]
        }
      ]
    },
    {
      "cell_type": "code",
      "source": [
        "y = True # True = 1, False = 0\n",
        "y = int(y)\n",
        "print(y, type(y))"
      ],
      "metadata": {
        "colab": {
          "base_uri": "https://localhost:8080/"
        },
        "id": "ZwnJ8MMUWrK5",
        "outputId": "ac93b7d2-6495-4ce6-e5ff-5f879e18a81e"
      },
      "execution_count": null,
      "outputs": [
        {
          "output_type": "stream",
          "name": "stdout",
          "text": [
            "1 <class 'int'>\n"
          ]
        }
      ]
    },
    {
      "cell_type": "code",
      "source": [
        "z = 1\n",
        "z = bool(z)\n",
        "print(z, type(z))"
      ],
      "metadata": {
        "colab": {
          "base_uri": "https://localhost:8080/"
        },
        "id": "gCiOBaFNXOJ3",
        "outputId": "722551ce-f5a2-4595-80e5-ed5ea4811fa0"
      },
      "execution_count": null,
      "outputs": [
        {
          "output_type": "stream",
          "name": "stdout",
          "text": [
            "True <class 'bool'>\n"
          ]
        }
      ]
    },
    {
      "cell_type": "code",
      "source": [
        "text = \"I'm learning Python\"\n",
        "text2 = '\"hahahaha'\n",
        "print(text, text2)"
      ],
      "metadata": {
        "colab": {
          "base_uri": "https://localhost:8080/"
        },
        "id": "W0pbKvXXXf3v",
        "outputId": "95d89a13-11a9-45fa-cc0f-69fe869cda37"
      },
      "execution_count": null,
      "outputs": [
        {
          "output_type": "stream",
          "name": "stdout",
          "text": [
            "I'm learning Python \"hahahaha\n"
          ]
        }
      ]
    },
    {
      "cell_type": "code",
      "source": [
        "text = \"hello\"\n",
        "text + text"
      ],
      "metadata": {
        "colab": {
          "base_uri": "https://localhost:8080/",
          "height": 36
        },
        "id": "uDbiLckpX1J8",
        "outputId": "de0b25e7-ad41-4348-e85e-47c8b79ee333"
      },
      "execution_count": null,
      "outputs": [
        {
          "output_type": "execute_result",
          "data": {
            "text/plain": [
              "'hellohello'"
            ],
            "application/vnd.google.colaboratory.intrinsic+json": {
              "type": "string"
            }
          },
          "metadata": {},
          "execution_count": 43
        }
      ]
    },
    {
      "cell_type": "code",
      "source": [
        "# type hint\n",
        "age: int = 22\n",
        "my_name: str = \"Nam\"\n",
        "gpa: float = 2.57\n",
        "seafood: bool = True"
      ],
      "metadata": {
        "id": "YzVtTCdSYFzt"
      },
      "execution_count": null,
      "outputs": []
    },
    {
      "cell_type": "code",
      "source": [
        "print(age, type(age))"
      ],
      "metadata": {
        "colab": {
          "base_uri": "https://localhost:8080/"
        },
        "id": "6s7EMOUYYgBi",
        "outputId": "624e4bda-26da-490a-e0fe-f76fea08c0e3"
      },
      "execution_count": null,
      "outputs": [
        {
          "output_type": "stream",
          "name": "stdout",
          "text": [
            "22 <class 'str'>\n"
          ]
        }
      ]
    },
    {
      "cell_type": "code",
      "source": [
        "# 4. function\n",
        "print(\"hello\", \"world\")\n",
        "print(pow(5, 2), abs(-5))"
      ],
      "metadata": {
        "colab": {
          "base_uri": "https://localhost:8080/"
        },
        "id": "Rg9GGlH-YkVo",
        "outputId": "61b5f43a-4887-4e1a-dc18-75121c54b530"
      },
      "execution_count": null,
      "outputs": [
        {
          "output_type": "stream",
          "name": "stdout",
          "text": [
            "hello world\n",
            "25 5\n"
          ]
        }
      ]
    },
    {
      "cell_type": "code",
      "source": [
        "# greeting() สร้าง function\n",
        "def greeting(name=\"Nam\", location = \"London\"):\n",
        "    print(\"Hello! \" + name)\n",
        "    print(\"He is in \" + location)"
      ],
      "metadata": {
        "id": "ISpFWUtiZgzl"
      },
      "execution_count": null,
      "outputs": []
    },
    {
      "cell_type": "code",
      "source": [
        "greeting(location=\"Japan\", name=\"Naruto\")"
      ],
      "metadata": {
        "colab": {
          "base_uri": "https://localhost:8080/"
        },
        "id": "uG8wRG5wZzef",
        "outputId": "3cbf151e-ec28-40ac-fc42-49254a053947"
      },
      "execution_count": null,
      "outputs": [
        {
          "output_type": "stream",
          "name": "stdout",
          "text": [
            "Hello! Naruto\n",
            "He is in Japan\n"
          ]
        }
      ]
    },
    {
      "cell_type": "code",
      "source": [
        "def add_two_nums(num1, num2):\n",
        "    print(\"hello word\")\n",
        "    return num1 + num2 # ส่งค่าบางอย่างกลับมา\n",
        "    print(\"Don!\") # ต้องทำทุกอย่างก่อน return"
      ],
      "metadata": {
        "id": "mQs8PCbpZ2Bs"
      },
      "execution_count": null,
      "outputs": []
    },
    {
      "cell_type": "code",
      "source": [
        "result = add_two_nums(5, 15)\n",
        "print(result)"
      ],
      "metadata": {
        "colab": {
          "base_uri": "https://localhost:8080/"
        },
        "id": "FTxU-HTAbhUQ",
        "outputId": "b087ad4c-ce16-4642-937e-614d3fbe1959"
      },
      "execution_count": null,
      "outputs": [
        {
          "output_type": "stream",
          "name": "stdout",
          "text": [
            "hello word\n",
            "20\n"
          ]
        }
      ]
    },
    {
      "cell_type": "code",
      "source": [
        "def add_two_nums(a: int, b:int) -> int:\n",
        "    return a+b"
      ],
      "metadata": {
        "id": "wZm3asM7bk2a"
      },
      "execution_count": null,
      "outputs": []
    },
    {
      "cell_type": "code",
      "source": [
        "add_two_nums(5,6)"
      ],
      "metadata": {
        "colab": {
          "base_uri": "https://localhost:8080/"
        },
        "id": "VnXrSTBhck0k",
        "outputId": "c39ab2ab-7403-4cbf-baf1-6df04c835f08"
      },
      "execution_count": null,
      "outputs": [
        {
          "output_type": "execute_result",
          "data": {
            "text/plain": [
              "11"
            ]
          },
          "metadata": {},
          "execution_count": 79
        }
      ]
    },
    {
      "cell_type": "code",
      "source": [
        "# work with string \n",
        "long_text = \"\"\"\n",
        " this is a\n",
        " very long text\n",
        " this id a new line\"\"\"\n",
        "\n",
        "print(long_text) # ห้ามเว้นวรรค มันจะ error"
      ],
      "metadata": {
        "colab": {
          "base_uri": "https://localhost:8080/"
        },
        "id": "L_iYnVcccoI8",
        "outputId": "f67b86e6-36fa-4657-c622-da8144625a5d"
      },
      "execution_count": null,
      "outputs": [
        {
          "output_type": "stream",
          "name": "stdout",
          "text": [
            "\n",
            " this is a\n",
            " very long text\n",
            " this id a new line\n"
          ]
        }
      ]
    },
    {
      "cell_type": "code",
      "source": [
        "# string template : fstring\n",
        "my_name = \"John Wick\"\n",
        "location = \"London\"\n",
        "\n",
        "text = f\"Hi! my name is {my_name} and I live in {location}.\"\n",
        "\n",
        "print(text)"
      ],
      "metadata": {
        "colab": {
          "base_uri": "https://localhost:8080/"
        },
        "id": "vfNhlpYsdSd-",
        "outputId": "4bdf0357-b108-486f-f3c5-a09338c6d974"
      },
      "execution_count": null,
      "outputs": [
        {
          "output_type": "stream",
          "name": "stdout",
          "text": [
            "Hi! my name is John Wick and I live in London.\n"
          ]
        }
      ]
    },
    {
      "cell_type": "code",
      "source": [
        "\"Hi my name is {}, location: {}\". format(my_name, location)"
      ],
      "metadata": {
        "colab": {
          "base_uri": "https://localhost:8080/",
          "height": 36
        },
        "id": "OU71NEJmeHIQ",
        "outputId": "9e104e0c-26d7-40ec-9619-b8ae728e3618"
      },
      "execution_count": null,
      "outputs": [
        {
          "output_type": "execute_result",
          "data": {
            "text/plain": [
              "'Hi my name is John Wick, location: London'"
            ],
            "application/vnd.google.colaboratory.intrinsic+json": {
              "type": "string"
            }
          },
          "metadata": {},
          "execution_count": 94
        }
      ]
    },
    {
      "cell_type": "code",
      "source": [
        "text = \"a duck walks into a bar\"\n",
        "print(text)"
      ],
      "metadata": {
        "colab": {
          "base_uri": "https://localhost:8080/"
        },
        "id": "VyoFWjesezOp",
        "outputId": "526e36c5-8e19-4f87-e5e0-284fcf85871b"
      },
      "execution_count": null,
      "outputs": [
        {
          "output_type": "stream",
          "name": "stdout",
          "text": [
            "a duck walks into a bar\n"
          ]
        }
      ]
    },
    {
      "cell_type": "code",
      "source": [
        "len(text)"
      ],
      "metadata": {
        "colab": {
          "base_uri": "https://localhost:8080/"
        },
        "id": "IqqbTjIRfRhI",
        "outputId": "4d1c95b9-4e31-43ae-a435-858b276a459a"
      },
      "execution_count": null,
      "outputs": [
        {
          "output_type": "execute_result",
          "data": {
            "text/plain": [
              "23"
            ]
          },
          "metadata": {},
          "execution_count": 97
        }
      ]
    },
    {
      "cell_type": "code",
      "source": [
        "# slicing, index starts with 0\n",
        "print(text[0], text[22], text[-1])"
      ],
      "metadata": {
        "colab": {
          "base_uri": "https://localhost:8080/"
        },
        "id": "VctpSH6afcMW",
        "outputId": "4499213e-e8e9-4549-b327-ff7afd731536"
      },
      "execution_count": null,
      "outputs": [
        {
          "output_type": "stream",
          "name": "stdout",
          "text": [
            "a r r\n"
          ]
        }
      ]
    },
    {
      "cell_type": "code",
      "source": [
        "text "
      ],
      "metadata": {
        "colab": {
          "base_uri": "https://localhost:8080/",
          "height": 36
        },
        "id": "_Zo8ireafwPr",
        "outputId": "c2ba945d-6625-4cd8-d577-bd8977bfa461"
      },
      "execution_count": null,
      "outputs": [
        {
          "output_type": "execute_result",
          "data": {
            "text/plain": [
              "'a duck walks into a bar'"
            ],
            "application/vnd.google.colaboratory.intrinsic+json": {
              "type": "string"
            }
          },
          "metadata": {},
          "execution_count": 101
        }
      ]
    },
    {
      "cell_type": "code",
      "source": [
        "# up to but not include\n",
        "print(text[2:5], text[2:6])"
      ],
      "metadata": {
        "colab": {
          "base_uri": "https://localhost:8080/"
        },
        "id": "T-LxakrYgPnI",
        "outputId": "5142f4e9-c53b-42c1-dd67-2f11e277ea3a"
      },
      "execution_count": null,
      "outputs": [
        {
          "output_type": "stream",
          "name": "stdout",
          "text": [
            "duc duck\n"
          ]
        }
      ]
    },
    {
      "cell_type": "code",
      "source": [
        "text[13:17]"
      ],
      "metadata": {
        "colab": {
          "base_uri": "https://localhost:8080/",
          "height": 36
        },
        "id": "2w51W3fmgUrs",
        "outputId": "9ea006df-8b2c-4c63-d7ee-7acb8fcc5cff"
      },
      "execution_count": null,
      "outputs": [
        {
          "output_type": "execute_result",
          "data": {
            "text/plain": [
              "'into'"
            ],
            "application/vnd.google.colaboratory.intrinsic+json": {
              "type": "string"
            }
          },
          "metadata": {},
          "execution_count": 108
        }
      ]
    },
    {
      "cell_type": "code",
      "source": [
        "text[7: ]"
      ],
      "metadata": {
        "colab": {
          "base_uri": "https://localhost:8080/",
          "height": 36
        },
        "id": "--9qg79dgzPN",
        "outputId": "abeadfe4-d9c6-42fd-8bc2-4280e0b9bb22"
      },
      "execution_count": null,
      "outputs": [
        {
          "output_type": "execute_result",
          "data": {
            "text/plain": [
              "'walks into a bar'"
            ],
            "application/vnd.google.colaboratory.intrinsic+json": {
              "type": "string"
            }
          },
          "metadata": {},
          "execution_count": 109
        }
      ]
    },
    {
      "cell_type": "code",
      "source": [
        "# string is immutable\n",
        "name = \"Python\" # -> Cython\n",
        "# name[0] = \"C\" # อัพเดทค่าไม่ได้ ต้องประกาศแบบอื่น\n",
        "name = \"C\" + name[1: ]\n",
        "print(name)"
      ],
      "metadata": {
        "colab": {
          "base_uri": "https://localhost:8080/"
        },
        "id": "6S2JnMZxhBI4",
        "outputId": "1395afe9-3135-4194-d3c7-42410dfe959e"
      },
      "execution_count": null,
      "outputs": [
        {
          "output_type": "stream",
          "name": "stdout",
          "text": [
            "Cython\n"
          ]
        }
      ]
    },
    {
      "cell_type": "code",
      "source": [
        "name = \"Python\"\n",
        "name = \"Cython\"\n",
        "\n",
        "print(name)"
      ],
      "metadata": {
        "colab": {
          "base_uri": "https://localhost:8080/"
        },
        "id": "1dFCwhw2hTRq",
        "outputId": "3b468ec8-9bce-4805-f8d1-1129cc830f6f"
      },
      "execution_count": null,
      "outputs": [
        {
          "output_type": "stream",
          "name": "stdout",
          "text": [
            "Cython\n"
          ]
        }
      ]
    },
    {
      "cell_type": "code",
      "source": [
        "text = \"a duck walks into a bar\""
      ],
      "metadata": {
        "id": "O4bXJ4cTh99z"
      },
      "execution_count": null,
      "outputs": []
    },
    {
      "cell_type": "code",
      "source": [
        "# function vs. method ฟังก์ชันที่เกิดมาสำหรับ data นั้นๆ\n",
        "# strinf methods\n",
        "text = text.upper()\n",
        "print(text)"
      ],
      "metadata": {
        "colab": {
          "base_uri": "https://localhost:8080/"
        },
        "id": "JE4_6B1EiKXV",
        "outputId": "c5fcd321-b522-4f5a-d47e-71f448063d36"
      },
      "execution_count": null,
      "outputs": [
        {
          "output_type": "stream",
          "name": "stdout",
          "text": [
            "A DUCK WALKS INTO A BAR\n"
          ]
        }
      ]
    },
    {
      "cell_type": "code",
      "source": [
        "text.lower()"
      ],
      "metadata": {
        "colab": {
          "base_uri": "https://localhost:8080/",
          "height": 36
        },
        "id": "1ThhHJEeiM7t",
        "outputId": "d5add89e-221f-4b77-b359-30b7308d54e5"
      },
      "execution_count": null,
      "outputs": [
        {
          "output_type": "execute_result",
          "data": {
            "text/plain": [
              "'a duck walks into a bar'"
            ],
            "application/vnd.google.colaboratory.intrinsic+json": {
              "type": "string"
            }
          },
          "metadata": {},
          "execution_count": 121
        }
      ]
    },
    {
      "cell_type": "code",
      "source": [
        "text.title()"
      ],
      "metadata": {
        "colab": {
          "base_uri": "https://localhost:8080/",
          "height": 36
        },
        "id": "zSQibLHKirlw",
        "outputId": "7c5f78ad-5efb-4aee-d2ac-5d901369f5f8"
      },
      "execution_count": null,
      "outputs": [
        {
          "output_type": "execute_result",
          "data": {
            "text/plain": [
              "'A Duck Walks Into A Bar'"
            ],
            "application/vnd.google.colaboratory.intrinsic+json": {
              "type": "string"
            }
          },
          "metadata": {},
          "execution_count": 122
        }
      ]
    },
    {
      "cell_type": "code",
      "source": [
        "text = text.lower()\n"
      ],
      "metadata": {
        "id": "6cxFNJJEi5Xj"
      },
      "execution_count": null,
      "outputs": []
    },
    {
      "cell_type": "code",
      "source": [
        "text.replace(\"duck\", \"lion\")"
      ],
      "metadata": {
        "colab": {
          "base_uri": "https://localhost:8080/",
          "height": 36
        },
        "id": "6qRIl7UFi_xf",
        "outputId": "b98f81b9-bb80-45a6-b39a-3df9bba4eacd"
      },
      "execution_count": null,
      "outputs": [
        {
          "output_type": "execute_result",
          "data": {
            "text/plain": [
              "'a lion walks into a bar'"
            ],
            "application/vnd.google.colaboratory.intrinsic+json": {
              "type": "string"
            }
          },
          "metadata": {},
          "execution_count": 126
        }
      ]
    },
    {
      "cell_type": "code",
      "source": [
        "words = text. split(\" \")\n",
        "print(words, type(words))"
      ],
      "metadata": {
        "colab": {
          "base_uri": "https://localhost:8080/"
        },
        "id": "h63gqlx3jIF6",
        "outputId": "cab7e478-aa4d-40aa-a962-98ddb21902b4"
      },
      "execution_count": null,
      "outputs": [
        {
          "output_type": "stream",
          "name": "stdout",
          "text": [
            "['a', 'duck', 'walks', 'into', 'a', 'bar'] <class 'list'>\n"
          ]
        }
      ]
    },
    {
      "cell_type": "code",
      "source": [
        "\" \".join(words)"
      ],
      "metadata": {
        "colab": {
          "base_uri": "https://localhost:8080/",
          "height": 36
        },
        "id": "hpVCcxTzjU_c",
        "outputId": "1996eb62-fead-4f0f-dfc4-804de878dcd0"
      },
      "execution_count": null,
      "outputs": [
        {
          "output_type": "execute_result",
          "data": {
            "text/plain": [
              "'a duck walks into a bar'"
            ],
            "application/vnd.google.colaboratory.intrinsic+json": {
              "type": "string"
            }
          },
          "metadata": {},
          "execution_count": 131
        }
      ]
    },
    {
      "cell_type": "code",
      "source": [
        "\"+\".join(words)"
      ],
      "metadata": {
        "colab": {
          "base_uri": "https://localhost:8080/",
          "height": 36
        },
        "id": "67EkavVUjlyN",
        "outputId": "f8e5e0ff-f4bf-4524-e79a-86b3335b6899"
      },
      "execution_count": null,
      "outputs": [
        {
          "output_type": "execute_result",
          "data": {
            "text/plain": [
              "'a+duck+walks+into+a+bar'"
            ],
            "application/vnd.google.colaboratory.intrinsic+json": {
              "type": "string"
            }
          },
          "metadata": {},
          "execution_count": 132
        }
      ]
    },
    {
      "cell_type": "code",
      "source": [
        "# method = function ทีถูกสร้างขึ้นมาสำหรับ object นั้นๆ\n",
        "# ใช้ได้กับ string เท่านั้น\n",
        "# string is immutable ไม่สามารถอัพเดทค่าข้างในได้"
      ],
      "metadata": {
        "id": "YsrIYQvajzos"
      },
      "execution_count": null,
      "outputs": []
    },
    {
      "cell_type": "code",
      "source": [
        "# 3. data structures\n",
        "# 1. list []\n",
        "# 2. tuple ()\n",
        "# 3. dictionary {}\n",
        "# 4. set {unique}"
      ],
      "metadata": {
        "id": "ih16vQMAj-Xz"
      },
      "execution_count": null,
      "outputs": []
    },
    {
      "cell_type": "code",
      "source": [
        "# list\n",
        "shopping_items = [\"banana\", \"egg\", \"milk\"]\n",
        "print(shopping_items[0])\n",
        "print(shopping_items[1])\n",
        "print(shopping_items[2])\n",
        "print( len(shopping_items))"
      ],
      "metadata": {
        "colab": {
          "base_uri": "https://localhost:8080/"
        },
        "id": "YarjMvClmRKW",
        "outputId": "30ee6817-d3e5-4b86-e5df-58a1261d1835"
      },
      "execution_count": null,
      "outputs": [
        {
          "output_type": "stream",
          "name": "stdout",
          "text": [
            "banana\n",
            "egg\n",
            "milk\n",
            "3\n"
          ]
        }
      ]
    },
    {
      "cell_type": "code",
      "source": [
        "# list is mutable อัพเดทค่าใน list ได้\n",
        "shopping_items = [\"banana\", \"egg\", \"milk\"]\n",
        "shopping_items[0] = \"pineapple\" # อัพเดทค่าใน list \n",
        "shopping_items[1] = \"ham cheese\"\n",
        "print(shopping_items)"
      ],
      "metadata": {
        "colab": {
          "base_uri": "https://localhost:8080/"
        },
        "id": "TtdKQiVRmhqa",
        "outputId": "a8807b38-faa0-4881-93ff-d6b876c4902e"
      },
      "execution_count": null,
      "outputs": [
        {
          "output_type": "stream",
          "name": "stdout",
          "text": [
            "['pineapple', 'ham cheese', 'milk']\n"
          ]
        }
      ]
    },
    {
      "cell_type": "code",
      "source": [
        "# list methods\n",
        "shopping_items.append(\"egg\") # เพิ่ม list เข้าไปได้\n",
        "print(shopping_items)"
      ],
      "metadata": {
        "colab": {
          "base_uri": "https://localhost:8080/"
        },
        "id": "R1yC53olm3Fn",
        "outputId": "e65ea360-099a-4034-9476-e709a702663a"
      },
      "execution_count": null,
      "outputs": [
        {
          "output_type": "stream",
          "name": "stdout",
          "text": [
            "['pineapple', 'ham cheese', 'milk', 'egg', 'egg']\n"
          ]
        }
      ]
    },
    {
      "cell_type": "code",
      "source": [
        "# sort items (A-Z)\n",
        "shopping_items.sort(reverse=True) # Z-A\n",
        "print(shopping_items)"
      ],
      "metadata": {
        "colab": {
          "base_uri": "https://localhost:8080/"
        },
        "id": "lJhoPjkln7Wz",
        "outputId": "ca748b11-9e4e-4487-b885-a40a72234816"
      },
      "execution_count": null,
      "outputs": [
        {
          "output_type": "stream",
          "name": "stdout",
          "text": [
            "['pineapple', 'milk', 'ham cheese', 'egg', 'egg']\n"
          ]
        }
      ]
    },
    {
      "cell_type": "code",
      "source": [
        "# reusable ใช้งานได้เรื่อยๆ แค่เรียกใช้\n",
        "def mean(scores):\n",
        "    return sum(scores) / len(scores)"
      ],
      "metadata": {
        "id": "gaVmvMWGpJRN"
      },
      "execution_count": null,
      "outputs": []
    },
    {
      "cell_type": "code",
      "source": [
        "scores = [90, 88, 85, 92, 75]\n",
        "print(len(scores), sum(scores), \n",
        "      min(scores), max(scores), mean(scores)) # ไม่มี ค่าเฉลี่ย "
      ],
      "metadata": {
        "colab": {
          "base_uri": "https://localhost:8080/"
        },
        "id": "RuFLkQnXoTvN",
        "outputId": "6a8a3561-5694-403e-a0b7-3420eaecc62d"
      },
      "execution_count": null,
      "outputs": [
        {
          "output_type": "stream",
          "name": "stdout",
          "text": [
            "5 430 75 92 86.0\n"
          ]
        }
      ]
    },
    {
      "cell_type": "code",
      "source": [
        "sum(scores) / len(scores) # mean"
      ],
      "metadata": {
        "colab": {
          "base_uri": "https://localhost:8080/"
        },
        "id": "B8nQuJEJo2It",
        "outputId": "0b42b8ad-58ce-4521-b2b0-afc2acb171b7"
      },
      "execution_count": null,
      "outputs": [
        {
          "output_type": "execute_result",
          "data": {
            "text/plain": [
              "86.0"
            ]
          },
          "metadata": {},
          "execution_count": 150
        }
      ]
    },
    {
      "cell_type": "code",
      "source": [
        "# remove last items ลบตัวสุดท้ายทิ้ง\n",
        "shopping_items.pop()\n",
        "shopping_items"
      ],
      "metadata": {
        "colab": {
          "base_uri": "https://localhost:8080/"
        },
        "id": "I9tQ4DewpaHM",
        "outputId": "fa48b88b-33d4-44e9-f57a-0ad6b96a79c5"
      },
      "execution_count": null,
      "outputs": [
        {
          "output_type": "execute_result",
          "data": {
            "text/plain": [
              "['pineapple', 'milk', 'ham cheese', 'egg']"
            ]
          },
          "metadata": {},
          "execution_count": 155
        }
      ]
    },
    {
      "cell_type": "code",
      "source": [
        "shopping_items.remove(\"milk\")\n",
        "shopping_items"
      ],
      "metadata": {
        "colab": {
          "base_uri": "https://localhost:8080/"
        },
        "id": "uqSrRoYRqbih",
        "outputId": "f3f71fdc-6c15-4dae-9e6b-47fee010641d"
      },
      "execution_count": null,
      "outputs": [
        {
          "output_type": "execute_result",
          "data": {
            "text/plain": [
              "['pineapple', 'ham cheese', 'egg']"
            ]
          },
          "metadata": {},
          "execution_count": 157
        }
      ]
    },
    {
      "cell_type": "code",
      "source": [
        "# .insert()\n",
        "shopping_items.insert(1, \"milk\")"
      ],
      "metadata": {
        "id": "bA7DHq0Cq8W2"
      },
      "execution_count": null,
      "outputs": []
    },
    {
      "cell_type": "code",
      "source": [
        "shopping_items"
      ],
      "metadata": {
        "colab": {
          "base_uri": "https://localhost:8080/"
        },
        "id": "DG1NexelrIMn",
        "outputId": "b9b96ad1-28b1-4ea9-d6ba-d8ff3a195503"
      },
      "execution_count": null,
      "outputs": [
        {
          "output_type": "execute_result",
          "data": {
            "text/plain": [
              "['pineapple', 'milk', 'ham cheese', 'egg']"
            ]
          },
          "metadata": {},
          "execution_count": 159
        }
      ]
    },
    {
      "cell_type": "code",
      "source": [
        "# list + list\n",
        "items1 = [\"egg\", \"milk\"]\n",
        "items2 = [\"banana\", \"bread\"]\n",
        "\n",
        "print(items1 + items2)"
      ],
      "metadata": {
        "colab": {
          "base_uri": "https://localhost:8080/"
        },
        "id": "BtE2nPexrLR-",
        "outputId": "9cdd8f34-74ba-4b8e-af2b-cb7eab78535d"
      },
      "execution_count": null,
      "outputs": [
        {
          "output_type": "stream",
          "name": "stdout",
          "text": [
            "['egg', 'milk', 'banana', 'bread']\n"
          ]
        }
      ]
    },
    {
      "cell_type": "code",
      "source": [
        "# tuple () is immutable ใช้เก็บค่าที่ไม่อยากเปลี่ยน เพราะอัพเดทไม่ได้\n",
        "tup_items = ('egg', 'bread','pepsi')\n",
        "print(tup_items)"
      ],
      "metadata": {
        "colab": {
          "base_uri": "https://localhost:8080/"
        },
        "id": "Wf7ZKAbKrmtn",
        "outputId": "148a2810-bcf0-4201-ce95-40894bcadf45"
      },
      "execution_count": null,
      "outputs": [
        {
          "output_type": "stream",
          "name": "stdout",
          "text": [
            "('egg', 'bread', 'pepsi')\n"
          ]
        }
      ]
    },
    {
      "cell_type": "code",
      "source": [
        "tup_items.count('egg')"
      ],
      "metadata": {
        "colab": {
          "base_uri": "https://localhost:8080/"
        },
        "id": "p61g_vn4r1AS",
        "outputId": "94c2e315-09fb-4553-e2dd-4ffa371d6bed"
      },
      "execution_count": null,
      "outputs": [
        {
          "output_type": "execute_result",
          "data": {
            "text/plain": [
              "1"
            ]
          },
          "metadata": {},
          "execution_count": 163
        }
      ]
    },
    {
      "cell_type": "code",
      "source": [
        "# username password\n",
        "# student1, student2\n",
        "s1 = (\"id001\", \"123456\")\n",
        "s2 = (\"id002\", \"654321\")\n",
        "user_pw = (s1, s2)\n",
        "\n",
        "print(user_pw)"
      ],
      "metadata": {
        "colab": {
          "base_uri": "https://localhost:8080/"
        },
        "id": "-tn3cQ6FsHB8",
        "outputId": "5bd67fca-71a2-4729-ece7-8f7981433d1a"
      },
      "execution_count": null,
      "outputs": [
        {
          "output_type": "stream",
          "name": "stdout",
          "text": [
            "(('id001', '123456'), ('id002', '654321'))\n"
          ]
        }
      ]
    },
    {
      "cell_type": "code",
      "source": [
        "# tuple unpacking\n",
        "username, password = s1\n",
        "\n",
        "print(username, password)"
      ],
      "metadata": {
        "colab": {
          "base_uri": "https://localhost:8080/"
        },
        "id": "Gi9a3IuMtTKa",
        "outputId": "4bbb2c2d-672f-45ce-9b04-2b9b2541c2ab"
      },
      "execution_count": null,
      "outputs": [
        {
          "output_type": "stream",
          "name": "stdout",
          "text": [
            "id001 123456\n"
          ]
        }
      ]
    },
    {
      "cell_type": "code",
      "source": [
        "# tuple unpacking 3 values\n",
        "name, age, gpa = (\"John Wick\", 42, 3.98)\n",
        "print(name, age, gpa)"
      ],
      "metadata": {
        "colab": {
          "base_uri": "https://localhost:8080/"
        },
        "id": "W06Z_NTlthMd",
        "outputId": "359b4e2d-8ddb-4235-e8a3-7b2ccb8bc118"
      },
      "execution_count": null,
      "outputs": [
        {
          "output_type": "stream",
          "name": "stdout",
          "text": [
            "John Wick 42 3.98\n"
          ]
        }
      ]
    },
    {
      "cell_type": "code",
      "source": [
        "# tuple unpacking 3 values\n",
        "name, age, _ = (\"John Wick\", 42, 3.98) # _ ใส่ไว้สำหรับตัวที่ไม่อยากใช้\n",
        "print(name, age)"
      ],
      "metadata": {
        "colab": {
          "base_uri": "https://localhost:8080/"
        },
        "id": "Ed3Fw4YbuBe2",
        "outputId": "fa00e88d-0ba9-40ca-e1a9-9f4e97706f69"
      },
      "execution_count": null,
      "outputs": [
        {
          "output_type": "stream",
          "name": "stdout",
          "text": [
            "John Wick 42\n"
          ]
        }
      ]
    },
    {
      "cell_type": "code",
      "source": [
        "# set {unique}\n",
        "courses = [\"Python\", \"Python\", \"R\", \"SQL\"]"
      ],
      "metadata": {
        "id": "rFVX3KsvuLZJ"
      },
      "execution_count": null,
      "outputs": []
    },
    {
      "cell_type": "code",
      "source": [
        "set(courses)  # ไม่โชว์ค่าที่ซ้ำกัน จะโชว์แค่ 1 ตัว"
      ],
      "metadata": {
        "colab": {
          "base_uri": "https://localhost:8080/"
        },
        "id": "7zn5-6fGuxWL",
        "outputId": "b451a4e5-eddf-4f8c-cd6e-277d2165edb4"
      },
      "execution_count": null,
      "outputs": [
        {
          "output_type": "execute_result",
          "data": {
            "text/plain": [
              "{'Python', 'R', 'SQL'}"
            ]
          },
          "metadata": {},
          "execution_count": 172
        }
      ]
    },
    {
      "cell_type": "code",
      "source": [
        "# dictionary kay: value pairs (mutable)\n",
        "courses = {\n",
        "    \"name\": \"Data Science Bootcamp\",\n",
        "    \"duration\": \"4 months\",\n",
        "    \"student\": 200,\n",
        "    \"replay\": True,\n",
        "    \"skills\": [\"Google Sheets\", \"SQL\", \"R\", \"Python\", \n",
        "               \"Stats\", \"ML\", \"Dashboard\", \"Data Tranformation\"]\n",
        "}"
      ],
      "metadata": {
        "id": "Y3GF5VLJu0we"
      },
      "execution_count": null,
      "outputs": []
    },
    {
      "cell_type": "code",
      "source": [
        "courses"
      ],
      "metadata": {
        "colab": {
          "base_uri": "https://localhost:8080/"
        },
        "id": "YXnMyn85wCt3",
        "outputId": "122950b3-c0de-47a5-dcbe-d11e640940cc"
      },
      "execution_count": null,
      "outputs": [
        {
          "output_type": "execute_result",
          "data": {
            "text/plain": [
              "{'name': 'Data Science Bootcamp',\n",
              " 'duration': '4 months',\n",
              " 'student': 200,\n",
              " 'replay': True,\n",
              " 'skills': ['Google Sheets',\n",
              "  'SQL',\n",
              "  'R',\n",
              "  'Python',\n",
              "  'Stats',\n",
              "  'ML',\n",
              "  'Dashboard',\n",
              "  'Data Tranformation']}"
            ]
          },
          "metadata": {},
          "execution_count": 176
        }
      ]
    },
    {
      "cell_type": "code",
      "source": [
        "courses[\"name\"]"
      ],
      "metadata": {
        "colab": {
          "base_uri": "https://localhost:8080/",
          "height": 36
        },
        "id": "JpyiQ51-wRJL",
        "outputId": "a939f812-092b-4b37-fbd7-9e2b5ca10ce8"
      },
      "execution_count": null,
      "outputs": [
        {
          "output_type": "execute_result",
          "data": {
            "text/plain": [
              "'Data Science Bootcamp'"
            ],
            "application/vnd.google.colaboratory.intrinsic+json": {
              "type": "string"
            }
          },
          "metadata": {},
          "execution_count": 7
        }
      ]
    },
    {
      "cell_type": "code",
      "source": [
        "courses[\"starts_time\"] = \"9 am\" # สร้าง key ใหม่\n",
        "courses[\"language\"] = \"Thai\""
      ],
      "metadata": {
        "id": "4nZKEbuVwbIo"
      },
      "execution_count": null,
      "outputs": []
    },
    {
      "cell_type": "code",
      "source": [
        "courses"
      ],
      "metadata": {
        "colab": {
          "base_uri": "https://localhost:8080/"
        },
        "id": "CVd2BjR5xSm8",
        "outputId": "6c31a2aa-3dc1-40f2-b18d-10a4dbbc6372"
      },
      "execution_count": null,
      "outputs": [
        {
          "output_type": "execute_result",
          "data": {
            "text/plain": [
              "{'name': 'Data Science Bootcamp',\n",
              " 'duration': '4 months',\n",
              " 'student': 200,\n",
              " 'replay': True,\n",
              " 'skills': ['Google Sheets',\n",
              "  'SQL',\n",
              "  'R',\n",
              "  'Python',\n",
              "  'Stats',\n",
              "  'ML',\n",
              "  'Dashboard',\n",
              "  'Data Tranformation'],\n",
              " 'starts_time': '9 am',\n",
              " 'language': 'Thai'}"
            ]
          },
          "metadata": {},
          "execution_count": 9
        }
      ]
    },
    {
      "cell_type": "code",
      "source": [
        "# ลบ key\n",
        "# del courses[\"language\"]\n",
        "\n",
        "courses[\"replay\"] = False\n",
        "courses"
      ],
      "metadata": {
        "colab": {
          "base_uri": "https://localhost:8080/"
        },
        "id": "gIOJ7V1vxXqW",
        "outputId": "83cbe011-38c7-4dc6-fe2d-7bd53b09d7cc"
      },
      "execution_count": null,
      "outputs": [
        {
          "output_type": "execute_result",
          "data": {
            "text/plain": [
              "{'name': 'Data Science Bootcamp',\n",
              " 'duration': '4 months',\n",
              " 'student': 200,\n",
              " 'replay': False,\n",
              " 'skills': ['Google Sheets',\n",
              "  'SQL',\n",
              "  'R',\n",
              "  'Python',\n",
              "  'Stats',\n",
              "  'ML',\n",
              "  'Dashboard',\n",
              "  'Data Tranformation'],\n",
              " 'starts_time': '9 am',\n",
              " 'language': 'Thai'}"
            ]
          },
          "metadata": {},
          "execution_count": 10
        }
      ]
    },
    {
      "cell_type": "code",
      "source": [
        "courses[\"skills\"][0:3]"
      ],
      "metadata": {
        "colab": {
          "base_uri": "https://localhost:8080/"
        },
        "id": "jbh9EpXlxs19",
        "outputId": "1a315e70-849d-4751-feea-4a3a21159efa"
      },
      "execution_count": null,
      "outputs": [
        {
          "output_type": "execute_result",
          "data": {
            "text/plain": [
              "['Google Sheets', 'SQL', 'R']"
            ]
          },
          "metadata": {},
          "execution_count": 11
        }
      ]
    },
    {
      "cell_type": "code",
      "source": [
        "courses[\"skills\"][-3:]"
      ],
      "metadata": {
        "colab": {
          "base_uri": "https://localhost:8080/"
        },
        "id": "EvuISB2EyVSD",
        "outputId": "eb38c31f-b417-40f9-d899-5022d630493e"
      },
      "execution_count": null,
      "outputs": [
        {
          "output_type": "execute_result",
          "data": {
            "text/plain": [
              "['ML', 'Dashboard', 'Data Tranformation']"
            ]
          },
          "metadata": {},
          "execution_count": 12
        }
      ]
    },
    {
      "cell_type": "code",
      "source": [
        "list(courses.keys())"
      ],
      "metadata": {
        "colab": {
          "base_uri": "https://localhost:8080/"
        },
        "id": "y8u3bw8hygQi",
        "outputId": "1dfac47a-5710-4c2b-a0af-5717c0080d8f"
      },
      "execution_count": null,
      "outputs": [
        {
          "output_type": "execute_result",
          "data": {
            "text/plain": [
              "['name', 'duration', 'student', 'replay', 'skills', 'starts_time', 'language']"
            ]
          },
          "metadata": {},
          "execution_count": 13
        }
      ]
    },
    {
      "cell_type": "code",
      "source": [
        "list( courses.values() )"
      ],
      "metadata": {
        "colab": {
          "base_uri": "https://localhost:8080/"
        },
        "id": "NPVJzYtdXzWO",
        "outputId": "74680537-c920-4784-cb1b-5f61b7977b39"
      },
      "execution_count": null,
      "outputs": [
        {
          "output_type": "execute_result",
          "data": {
            "text/plain": [
              "['Data Science Bootcamp',\n",
              " '4 months',\n",
              " 200,\n",
              " False,\n",
              " ['Google Sheets',\n",
              "  'SQL',\n",
              "  'R',\n",
              "  'Python',\n",
              "  'Stats',\n",
              "  'ML',\n",
              "  'Dashboard',\n",
              "  'Data Tranformation'],\n",
              " '9 am',\n",
              " 'Thai']"
            ]
          },
          "metadata": {},
          "execution_count": 14
        }
      ]
    },
    {
      "cell_type": "code",
      "source": [
        "list( courses.items())"
      ],
      "metadata": {
        "colab": {
          "base_uri": "https://localhost:8080/"
        },
        "id": "RTQOaIpKYXko",
        "outputId": "30a55533-c2f9-4f09-c63f-74afcc936ebc"
      },
      "execution_count": null,
      "outputs": [
        {
          "output_type": "execute_result",
          "data": {
            "text/plain": [
              "[('name', 'Data Science Bootcamp'),\n",
              " ('duration', '4 months'),\n",
              " ('student', 200),\n",
              " ('replay', False),\n",
              " ('skills',\n",
              "  ['Google Sheets',\n",
              "   'SQL',\n",
              "   'R',\n",
              "   'Python',\n",
              "   'Stats',\n",
              "   'ML',\n",
              "   'Dashboard',\n",
              "   'Data Tranformation']),\n",
              " ('starts_time', '9 am'),\n",
              " ('language', 'Thai')]"
            ]
          },
          "metadata": {},
          "execution_count": 15
        }
      ]
    },
    {
      "cell_type": "code",
      "source": [
        "courses.get(\"replay\")"
      ],
      "metadata": {
        "colab": {
          "base_uri": "https://localhost:8080/"
        },
        "id": "HkGSUbaFY8vJ",
        "outputId": "1325fc07-496b-402d-dcdd-c48ed82c1c8c"
      },
      "execution_count": null,
      "outputs": [
        {
          "output_type": "execute_result",
          "data": {
            "text/plain": [
              "False"
            ]
          },
          "metadata": {},
          "execution_count": 16
        }
      ]
    },
    {
      "cell_type": "code",
      "source": [
        "# Recap\n",
        "# list, dictionary = mutable\n",
        "# tuple, string = immutable"
      ],
      "metadata": {
        "id": "WJOC1Tx7ZFQZ"
      },
      "execution_count": null,
      "outputs": []
    },
    {
      "cell_type": "code",
      "source": [
        "# control flow\n",
        "# if for while"
      ],
      "metadata": {
        "id": "HUmVhRgIZfyd"
      },
      "execution_count": null,
      "outputs": []
    },
    {
      "cell_type": "code",
      "source": [
        "# final exam 150 questions, pass >= 120\n",
        "def grade(score):\n",
        "    if score >= 120:\n",
        "        return \"passed\"\n",
        "    else: \n",
        "        return \"failed\""
      ],
      "metadata": {
        "id": "F-QMlgf3Z1Cf"
      },
      "execution_count": null,
      "outputs": []
    },
    {
      "cell_type": "code",
      "source": [
        "result = grade(88)"
      ],
      "metadata": {
        "colab": {
          "base_uri": "https://localhost:8080/"
        },
        "id": "uxBVl49LaOHI",
        "outputId": "ffef12d7-740f-4246-8d14-e4f43b9c3c13"
      },
      "execution_count": null,
      "outputs": [
        {
          "output_type": "stream",
          "name": "stdout",
          "text": [
            "failed\n"
          ]
        }
      ]
    },
    {
      "cell_type": "code",
      "source": [
        "def grade(score):\n",
        "    if score >= 120:\n",
        "        return \"Excellent\"\n",
        "    elif score >= 100:\n",
        "        return \"Good\"\n",
        "    elif score >= 80:\n",
        "        return \"Okay\"\n",
        "    else: \n",
        "        return \"Need to read more!\"\n"
      ],
      "metadata": {
        "id": "rfIPT8jca51l"
      },
      "execution_count": null,
      "outputs": []
    },
    {
      "cell_type": "code",
      "source": [
        "result = grade(95)\n",
        "print(result)"
      ],
      "metadata": {
        "colab": {
          "base_uri": "https://localhost:8080/"
        },
        "id": "zcPL2vOzbzQg",
        "outputId": "b125c1da-4ad5-4405-b25a-ad299de2dde9"
      },
      "execution_count": null,
      "outputs": [
        {
          "output_type": "stream",
          "name": "stdout",
          "text": [
            "Okay\n"
          ]
        }
      ]
    },
    {
      "cell_type": "code",
      "source": [
        "# use and, or in condition\n",
        "# course == data science, score >= 80 passed\n",
        "# course == english, score >= 70 passed\n",
        "def grade(course, score):\n",
        "    if course == \"english\" and score >= 70:\n",
        "        return \"passed\"\n",
        "    elif course == \"data science\" and score >= 80:\n",
        "        return \"passed\"\n",
        "    else:\n",
        "        return \"failed\""
      ],
      "metadata": {
        "id": "ZTu1m3Mgb48R"
      },
      "execution_count": null,
      "outputs": []
    },
    {
      "cell_type": "code",
      "source": [
        "grade(\"english\", 52)"
      ],
      "metadata": {
        "colab": {
          "base_uri": "https://localhost:8080/",
          "height": 36
        },
        "id": "udcYFnFsdjud",
        "outputId": "cf4f3ad4-f40e-43bf-df2c-f366f151146a"
      },
      "execution_count": null,
      "outputs": [
        {
          "output_type": "execute_result",
          "data": {
            "text/plain": [
              "'failed'"
            ],
            "application/vnd.google.colaboratory.intrinsic+json": {
              "type": "string"
            }
          },
          "metadata": {},
          "execution_count": 30
        }
      ]
    },
    {
      "cell_type": "code",
      "source": [
        "not True"
      ],
      "metadata": {
        "colab": {
          "base_uri": "https://localhost:8080/"
        },
        "id": "B14Y0gxCdofc",
        "outputId": "6ea784c4-309f-4e61-9cf1-94a440b0f2a6"
      },
      "execution_count": null,
      "outputs": [
        {
          "output_type": "execute_result",
          "data": {
            "text/plain": [
              "False"
            ]
          },
          "metadata": {},
          "execution_count": 31
        }
      ]
    },
    {
      "cell_type": "code",
      "source": [
        "# for loop \n",
        "# if score >= 80, passed\n",
        "def gradeing_all(scores):\n",
        "    new_scores = []\n",
        "    for score in scores:\n",
        "        new_scores.append(score+2) # เอาค่าใหม่ ใส่ไปใน new_scores\n",
        "    return(new_scores)\n"
      ],
      "metadata": {
        "id": "ikyPC3aqd6-c"
      },
      "execution_count": null,
      "outputs": []
    },
    {
      "cell_type": "code",
      "source": [
        "gradeing_all([75, 88, 90, 95, 52])"
      ],
      "metadata": {
        "colab": {
          "base_uri": "https://localhost:8080/"
        },
        "id": "r3_D0VC8eawY",
        "outputId": "209ed798-8d55-49ea-a153-f52badf4674e"
      },
      "execution_count": null,
      "outputs": [
        {
          "output_type": "execute_result",
          "data": {
            "text/plain": [
              "[77, 90, 92, 97, 54]"
            ]
          },
          "metadata": {},
          "execution_count": 5
        }
      ]
    },
    {
      "cell_type": "code",
      "source": [
        "# list comprehention\n",
        "scores = [75, 88, 90, 95, 52]"
      ],
      "metadata": {
        "id": "MMv8SIFmFEpD"
      },
      "execution_count": null,
      "outputs": []
    },
    {
      "cell_type": "code",
      "source": [
        "new_scores = [s*2 for s in scores]\n",
        "new_scores"
      ],
      "metadata": {
        "colab": {
          "base_uri": "https://localhost:8080/"
        },
        "id": "-tasSVW1NUYV",
        "outputId": "598afd75-c971-46e3-e73b-22e7082e3ff4"
      },
      "execution_count": null,
      "outputs": [
        {
          "output_type": "execute_result",
          "data": {
            "text/plain": [
              "[150, 176, 180, 190, 104]"
            ]
          },
          "metadata": {},
          "execution_count": 8
        }
      ]
    },
    {
      "cell_type": "code",
      "source": [
        "friends = [\"toy\", \"ink\", \"bee\", \"zue\", \"yos\"]\n",
        "[f.upper() for f in friends]"
      ],
      "metadata": {
        "colab": {
          "base_uri": "https://localhost:8080/"
        },
        "id": "T-MAazITNi0a",
        "outputId": "7b1771fc-e66e-41f9-f349-da03c6b391b9"
      },
      "execution_count": null,
      "outputs": [
        {
          "output_type": "execute_result",
          "data": {
            "text/plain": [
              "['TOY', 'INK', 'BEE', 'ZUE', 'YOS']"
            ]
          },
          "metadata": {},
          "execution_count": 10
        }
      ]
    },
    {
      "cell_type": "code",
      "source": [
        "# while loop รันไปเรื่อยๆ จนมีเงื่อนไขที่ให้ออกจาก loop\n",
        "count = 0\n",
        "\n",
        "while count < 5:\n",
        "    print(\"hello\")\n",
        "    count += 1"
      ],
      "metadata": {
        "colab": {
          "base_uri": "https://localhost:8080/"
        },
        "id": "_Ue_Hft9QAJ0",
        "outputId": "efd51250-c139-487f-f97f-7b2814f31bee"
      },
      "execution_count": null,
      "outputs": [
        {
          "output_type": "stream",
          "name": "stdout",
          "text": [
            "hello\n",
            "hello\n",
            "hello\n",
            "hello\n",
            "hello\n"
          ]
        }
      ]
    },
    {
      "cell_type": "code",
      "source": [
        "# chatbot for fruit order\n",
        "user_name = input(\"what is your nam? \")"
      ],
      "metadata": {
        "colab": {
          "base_uri": "https://localhost:8080/"
        },
        "id": "jb6v7B5HW7Wt",
        "outputId": "634b8634-32f9-40b3-c4bb-8897e92a34cd"
      },
      "execution_count": null,
      "outputs": [
        {
          "name": "stdout",
          "output_type": "stream",
          "text": [
            "what is your nam? John\n"
          ]
        }
      ]
    },
    {
      "cell_type": "code",
      "source": [
        "user_name"
      ],
      "metadata": {
        "colab": {
          "base_uri": "https://localhost:8080/",
          "height": 36
        },
        "id": "AjBB_p96XI9h",
        "outputId": "b45898a9-4c3e-48e8-8b3f-b5bd70303329"
      },
      "execution_count": null,
      "outputs": [
        {
          "output_type": "execute_result",
          "data": {
            "text/plain": [
              "'John'"
            ],
            "application/vnd.google.colaboratory.intrinsic+json": {
              "type": "string"
            }
          },
          "metadata": {},
          "execution_count": 16
        }
      ]
    },
    {
      "cell_type": "code",
      "source": [
        "def chatbot():\n",
        "    fruits = []\n",
        "    while True:\n",
        "        fruit = input(\"What fruit do you want to order? \")\n",
        "        if fruit == \"exit\":\n",
        "            return fruits\n",
        "        fruits.append(fruit)"
      ],
      "metadata": {
        "id": "VWfeLlJrXQ_X"
      },
      "execution_count": null,
      "outputs": []
    },
    {
      "cell_type": "code",
      "source": [
        "chatbot()"
      ],
      "metadata": {
        "colab": {
          "base_uri": "https://localhost:8080/"
        },
        "id": "yXrr_JlZYtbK",
        "outputId": "ced12e52-7014-449e-d035-f562cba8d32b"
      },
      "execution_count": null,
      "outputs": [
        {
          "name": "stdout",
          "output_type": "stream",
          "text": [
            "What fruit do you want to order? banana\n",
            "What fruit do you want to order? grape\n",
            "What fruit do you want to order? exit\n"
          ]
        },
        {
          "output_type": "execute_result",
          "data": {
            "text/plain": [
              "['banana', 'grape']"
            ]
          },
          "metadata": {},
          "execution_count": 27
        }
      ]
    },
    {
      "cell_type": "code",
      "source": [
        "age = int( input(\"how old are you? \") ) "
      ],
      "metadata": {
        "colab": {
          "base_uri": "https://localhost:8080/"
        },
        "id": "r2m8Xsg2ZsmT",
        "outputId": "3d140368-b6c0-4a82-ba34-23166a5b19f5"
      },
      "execution_count": null,
      "outputs": [
        {
          "name": "stdout",
          "output_type": "stream",
          "text": [
            "how old are you? 22\n"
          ]
        }
      ]
    },
    {
      "cell_type": "code",
      "source": [
        "type(age)"
      ],
      "metadata": {
        "colab": {
          "base_uri": "https://localhost:8080/"
        },
        "id": "OWgrWoSuaFeV",
        "outputId": "d197577f-a4b0-4b18-dde4-aefa531f765f"
      },
      "execution_count": null,
      "outputs": [
        {
          "output_type": "execute_result",
          "data": {
            "text/plain": [
              "int"
            ]
          },
          "metadata": {},
          "execution_count": 25
        }
      ]
    },
    {
      "cell_type": "code",
      "source": [
        "# OOP - Object Oriented Programming \n",
        "# Dog Class สร้าง object ให้ Python\n",
        "class Dog: # การสร้างต้องเริ่มด้วย class และ ชื่อตัวแรกต้องเป็นพิมใหญ่\n",
        "    pass\n",
        "    def __init__(self, name, age, breed): # อันเดอร์สกอร์ติดกัน 2 ตัว\n",
        "        self.name = name \n",
        "        self.age = age\n",
        "        self.breed = breed"
      ],
      "metadata": {
        "id": "W3w_ey90aRbz"
      },
      "execution_count": null,
      "outputs": []
    },
    {
      "cell_type": "code",
      "source": [
        "dog1 = Dog(\"ovaltine\", 2, \"chihuahua\")\n",
        "dog2 = Dog(\"milo\", 3, \"bulldog\")\n",
        "dog3 = Dog(\"pepsi\", 3.5, \"german shepherd\")"
      ],
      "metadata": {
        "id": "o8qaMacEbluZ"
      },
      "execution_count": null,
      "outputs": []
    },
    {
      "cell_type": "code",
      "source": [
        "print(dog1.name, dog1.age, dog1.breed)"
      ],
      "metadata": {
        "colab": {
          "base_uri": "https://localhost:8080/"
        },
        "id": "IteS0EdtboMg",
        "outputId": "6147a287-e822-4c5e-aa8e-9bd2af9d56a0"
      },
      "execution_count": null,
      "outputs": [
        {
          "output_type": "stream",
          "name": "stdout",
          "text": [
            "ovaltine 2 chihuahua\n"
          ]
        }
      ]
    },
    {
      "cell_type": "code",
      "source": [
        "class Employee: \n",
        "    pass"
      ],
      "metadata": {
        "id": "Ea8qnrvkdRjw"
      },
      "execution_count": null,
      "outputs": []
    },
    {
      "cell_type": "code",
      "source": [
        "class Employee: \n",
        "    def __init__(self, id, name, dept, pos):\n",
        "        self.id = id\n",
        "        self.name = name\n",
        "        self.dept = dept\n",
        "        self.pos = pos # position\n",
        "\n",
        "    def hello(self):\n",
        "        print(f\"Hello! my name is {self.name}\")\n",
        "\n",
        "    def work_hours(self, hours):\n",
        "        print(f\"{self.name} works for {hours} hours.\")\n",
        "        \n",
        "    def change_dept(self, new_dept):\n",
        "        self.dept = new_dept\n",
        "        print(f\"{self.name} is now in {self.dept}.\")"
      ],
      "metadata": {
        "id": "DL-M8t5lfIBu"
      },
      "execution_count": null,
      "outputs": []
    },
    {
      "cell_type": "code",
      "source": [
        "emp1 = Employee(1, \"John\", \"Finance\", \"Financial Analyst\")"
      ],
      "metadata": {
        "id": "K5z0rio5flSD"
      },
      "execution_count": null,
      "outputs": []
    },
    {
      "cell_type": "code",
      "source": [
        "print(emp1.id, emp1.name, emp1.dept, emp1.pos)"
      ],
      "metadata": {
        "colab": {
          "base_uri": "https://localhost:8080/"
        },
        "id": "f_NQPRdwgQqO",
        "outputId": "c4559abe-d357-46e0-c72d-cded0f1dd36b"
      },
      "execution_count": null,
      "outputs": [
        {
          "output_type": "stream",
          "name": "stdout",
          "text": [
            "1 John Finance Financial Analyst\n"
          ]
        }
      ]
    },
    {
      "cell_type": "code",
      "source": [
        "emp1.hello()"
      ],
      "metadata": {
        "colab": {
          "base_uri": "https://localhost:8080/"
        },
        "id": "W169IFvKgqH2",
        "outputId": "f5988810-1e7b-4ac8-e8f9-1c257d647839"
      },
      "execution_count": null,
      "outputs": [
        {
          "output_type": "stream",
          "name": "stdout",
          "text": [
            "Hello! my name is John\n"
          ]
        }
      ]
    },
    {
      "cell_type": "code",
      "source": [
        "emp1.work_hours(8)"
      ],
      "metadata": {
        "colab": {
          "base_uri": "https://localhost:8080/"
        },
        "id": "sEFtCC_FgzvH",
        "outputId": "a4d6e37f-ed76-42b0-dc2b-ce677f2f3842"
      },
      "execution_count": null,
      "outputs": [
        {
          "output_type": "stream",
          "name": "stdout",
          "text": [
            "John works for 8 hours.\n"
          ]
        }
      ]
    },
    {
      "cell_type": "code",
      "source": [
        "emp1.change_dept(\"Data Science\")"
      ],
      "metadata": {
        "colab": {
          "base_uri": "https://localhost:8080/"
        },
        "id": "1yoj66wWiQOR",
        "outputId": "c15bacc6-2fd3-470c-c235-6c5ebfd5b5b3"
      },
      "execution_count": null,
      "outputs": [
        {
          "output_type": "stream",
          "name": "stdout",
          "text": [
            "John is now in Data Science.\n"
          ]
        }
      ]
    },
    {
      "cell_type": "code",
      "source": [
        "# Object: attribute => name, id dept, pos\n",
        "# Object: method => hello(), change_dept(), work_hours()"
      ],
      "metadata": {
        "id": "jC7jYzcOjC__"
      },
      "execution_count": null,
      "outputs": []
    },
    {
      "cell_type": "code",
      "source": [
        "# create new ATM class 5 method\n",
        "\n",
        "class ATM: \n",
        "    def __init__(self, name, bank, balance):\n",
        "        self.name = name\n",
        "        self.bank = bank\n",
        "        self.balance = balance\n",
        "    def deposit(self, amt):\n",
        "        self.balance += amt\n",
        "scb = ATM(\"toyeiei\", \"scb\", 500)\n",
        "print(scb.balance)\n",
        "\n",
        "scb.deposit(100)\n",
        "print(scb.balance)"
      ],
      "metadata": {
        "colab": {
          "base_uri": "https://localhost:8080/"
        },
        "id": "hOQdDEwrlbvX",
        "outputId": "52a9e092-c605-49f3-9e0b-ad09c6faa9f5"
      },
      "execution_count": null,
      "outputs": [
        {
          "output_type": "stream",
          "name": "stdout",
          "text": [
            "500\n",
            "600\n"
          ]
        }
      ]
    }
  ]
}